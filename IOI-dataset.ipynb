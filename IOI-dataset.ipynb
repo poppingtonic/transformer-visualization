{
 "cells": [
  {
   "cell_type": "code",
   "execution_count": 28,
   "id": "fd4fbce6-7b23-4fa0-a9ed-5fdeb8b34bb8",
   "metadata": {},
   "outputs": [],
   "source": [
    "import random\n",
    "from names import PERSON, OBJECTS, PLACES\n",
    "import numpy as np"
   ]
  },
  {
   "cell_type": "code",
   "execution_count": 3,
   "id": "0db5ce34-1c13-488a-8846-8c11b13a899b",
   "metadata": {},
   "outputs": [
    {
     "data": {
      "text/plain": [
       "(504, 20, 20)"
      ]
     },
     "execution_count": 3,
     "metadata": {},
     "output_type": "execute_result"
    }
   ],
   "source": [
    "len(PERSON), len(OBJECTS), len(PLACES)"
   ]
  },
  {
   "cell_type": "markdown",
   "id": "588a4a25-780e-4c90-a27d-f10a172c5f68",
   "metadata": {},
   "source": [
    "This notebook is part of an effort to reproduce the paper _Interpretability in the Wild_, which introduced the Indirect Object Identification task (IOI).\n",
    "\n",
    "In the IOI task, there is a subject S and an indirect object IO. Here these are denoted by A and B. These are the templates obtained from the paper.\n",
    "\n",
    "`baba_templates` is copied from the paper, while `abba_templates` is the same pattern, with B and A swapped."
   ]
  },
  {
   "cell_type": "code",
   "execution_count": 4,
   "id": "24b01666-abeb-42ed-abf9-201fefbdd8e6",
   "metadata": {
    "tags": []
   },
   "outputs": [],
   "source": [
    "baba_templates = [\n",
    "    \"Then, {B} and {A} went to the {PLACE}. {B} gave a {OBJECT} to {A}\",\n",
    "    \"Then, {B} and {A} had a lot of fun at the {PLACE}. {B} gave a {OBJECT} to {A}\",\n",
    "    \"Then, {B} and {A} were working at the {PLACE}. {B} decided to give a {OBJECT} to {A}\",\n",
    "    \"Then, {B} and {A} were thinking about going to the {PLACE}. {B} wanted to give a {OBJECT} to {A}\",\n",
    "    \"Then, {B} and {A} had a long argument, and afterwards {B} said to {A}\",\n",
    "    \"After {B} and {A} went to the {PLACE}, {B} gave a {OBJECT} to {A}\",\n",
    "    \"When {B} and {A} got a {OBJECT} at the {PLACE}, {B} decided to give it to {A}\",\n",
    "    \"When {B} and {A} got a {OBJECT} at the {PLACE}, {B} decided to give the {OBJECT} to {A}\",\n",
    "    \"While {B} and {A} were working at the {PLACE}, {B} gave a {OBJECT} to {A}\",\n",
    "    \"While {B} and {A} were commuting to the {PLACE}, {B} gave a {OBJECT} to {A}\",\n",
    "    \"After the lunch, {B} and {A} went to the {PLACE}. {B} gave a {OBJECT} to {A}\",\n",
    "    \"Afterwards, {B} and {A} went to the {PLACE}. {B} gave a {OBJECT} to {A}\",\n",
    "    \"Then, {B} and {A} had a long argument. Afterwards {B} said to {A}\",\n",
    "    \"The {PLACE} {B} and {A} went to had a {OBJECT}. {B} gave it to {A}\",\n",
    "    \"Friends {B} and {A} found a {OBJECT} at the {PLACE}. {B} gave it to {A}\",\n",
    "]\n",
    "abba_templates = [\n",
    "    \"Then, {A} and {B} went to the {PLACE}. {B} gave a {OBJECT} to {A}\",\n",
    "    \"Then, {A} and {B} had a lot of fun at the {PLACE}. {B} gave a {OBJECT} to {A}\",\n",
    "    \"Then, {A} and {B} were working at the {PLACE}. {B} decided to give a {OBJECT} to {A}\",\n",
    "    \"Then, {A} and {B} were thinking about going to the {PLACE}. {B} wanted to give a {OBJECT} to {A}\",\n",
    "    \"Then, {A} and {B} had a long argument, and afterwards {B} said to {A}\",\n",
    "    \"After {A} and {B} went to the {PLACE}, {B} gave a {OBJECT} to {A}\",\n",
    "    \"When {A} and {B} got a {OBJECT} at the {PLACE}, {B} decided to give it to {A}\",\n",
    "    \"When {A} and {B} got a {OBJECT} at the {PLACE}, {B} decided to give the {OBJECT} to {A}\",\n",
    "    \"While {A} and {B} were working at the {PLACE}, {B} gave a {OBJECT} to {A}\",\n",
    "    \"While {A} and {B} were commuting to the {PLACE}, {B} gave a {OBJECT} to {A}\",\n",
    "    \"After the lunch, {A} and {B} went to the {PLACE}. {B} gave a {OBJECT} to {A}\",\n",
    "    \"Afterwards, {A} and {B} went to the {PLACE}. {B} gave a {OBJECT} to {A}\",\n",
    "    \"Then, {A} and {B} had a long argument. Afterwards {B} said to {A}\",\n",
    "    \"The {PLACE} {A} and {B} went to had a {OBJECT}. {B} gave it to {A}\",\n",
    "    \"Friends {A} and {B} found a {OBJECT} at the {PLACE}. {B} gave it to {A}\",\n",
    "]\n"
   ]
  },
  {
   "cell_type": "code",
   "execution_count": 5,
   "id": "5e425754-5e92-43ad-8b2c-b0583184391b",
   "metadata": {},
   "outputs": [],
   "source": [
    "\n",
    "def gen_person_a() -> list[str]:\n",
    "    \"\"\"randomly select 50 names from PERSON and put them in variable A, without repeats\n",
    "    \"\"\"\n",
    "    A = []\n",
    "    while len(A) < 50:\n",
    "        name = random.choice(PERSON)\n",
    "        if name not in A:\n",
    "            A.append(name)\n",
    "    return A\n",
    "\n",
    "def gen_person_b(A: list[str]) -> list[str]:\n",
    "    \"\"\"randomly select 50 names from PERSON and put them in variable B, without repeats in A\n",
    "    \"\"\"\n",
    "    B = []\n",
    "    while len(B) < 50:\n",
    "        name = random.choice(PERSON)\n",
    "        if name not in A and name not in B:\n",
    "            B.append(name)\n",
    "    return B"
   ]
  },
  {
   "cell_type": "code",
   "execution_count": 6,
   "id": "38b536af-0610-47cb-a930-0d3a94576bb9",
   "metadata": {},
   "outputs": [],
   "source": [
    "person_a_names = gen_person_a()\n",
    "person_b_names = gen_person_b(person_a_names)"
   ]
  },
  {
   "cell_type": "code",
   "execution_count": 7,
   "id": "c76ef7fe-b1a9-4436-be16-d7c57a5f49f0",
   "metadata": {},
   "outputs": [
    {
     "data": {
      "text/plain": [
       "50"
      ]
     },
     "execution_count": 7,
     "metadata": {},
     "output_type": "execute_result"
    }
   ],
   "source": [
    "len(person_a_names)"
   ]
  },
  {
   "cell_type": "code",
   "execution_count": 8,
   "id": "9ad9d9bd-7019-495c-b4dc-cc39ffbf6d22",
   "metadata": {},
   "outputs": [
    {
     "data": {
      "text/plain": [
       "50"
      ]
     },
     "execution_count": 8,
     "metadata": {},
     "output_type": "execute_result"
    }
   ],
   "source": [
    "len(person_b_names)"
   ]
  },
  {
   "cell_type": "code",
   "execution_count": 9,
   "id": "238b22e1-a21b-46b3-9f0e-055cebaf38d5",
   "metadata": {},
   "outputs": [],
   "source": [
    "random.shuffle(OBJECTS)"
   ]
  },
  {
   "cell_type": "code",
   "execution_count": 10,
   "id": "e5d39c7d-ab2e-4bab-af4d-e8c29cf82d93",
   "metadata": {},
   "outputs": [
    {
     "name": "stdout",
     "output_type": "stream",
     "text": [
      "Then, Jackie and Carmen went to the museum. Jackie gave a pear to Carmen\n",
      "Then, Gwen and Juana had a lot of fun at the park. Gwen gave a cantaloupe to Juana\n",
      "Then, Leigh and Ella were working at the beach. Leigh decided to give a grape to Ella\n",
      "Then, Eleanor and Stacy were thinking about going to the market. Eleanor wanted to give a mango to Stacy\n",
      "Then, Robin and Harriet had a long argument, and afterwards Robin said to Harriet\n",
      "After Lula and Mark went to the beach, Lula gave a strawberry to Mark\n",
      "When Jody and Brandy got a banana at the cave, Jody decided to give it to Brandy\n",
      "When Inez and Juana got a plum at the museum, Inez decided to give the plum to Juana\n",
      "While Marsha and Dianne were working at the museum, Marsha gave a peach to Dianne\n",
      "While Marsha and Jacqueline were commuting to the store, Marsha gave a mango to Jacqueline\n",
      "After the lunch, Pat and Harriet went to the museum. Pat gave a cantaloupe to Harriet\n",
      "Afterwards, Inez and Anne went to the market. Inez gave a grape to Anne\n",
      "Then, Marsha and Ginger had a long argument. Afterwards Marsha said to Ginger\n",
      "The museum Yvette and Alicia went to had a plum. Yvette gave it to Alicia\n",
      "Friends Jackie and Brian found a papaya at the desert. Jackie gave it to Brian\n"
     ]
    }
   ],
   "source": [
    "# BABA pattern\n",
    "for template in baba_templates:\n",
    "    print(template.format(A=random.choice(person_a_names),\n",
    "                          B=random.choice(person_b_names),\n",
    "                          OBJECT=random.choice(OBJECTS),\n",
    "                          PLACE=random.choice(PLACES))\n",
    "         )"
   ]
  },
  {
   "cell_type": "code",
   "execution_count": 11,
   "id": "20425fa5-2150-4cd4-914c-f66d3e2e533c",
   "metadata": {},
   "outputs": [
    {
     "name": "stdout",
     "output_type": "stream",
     "text": [
      "Then, Gwen and Anita went to the lake. Anita gave a strawberry to Gwen\n",
      "Then, Richard and Rosa had a lot of fun at the theater. Rosa gave a watermelon to Richard\n",
      "Then, Bernadette and Brandy were working at the forest. Brandy decided to give a pear to Bernadette\n",
      "Then, Bernadette and Mark were thinking about going to the shop. Mark wanted to give a banana to Bernadette\n",
      "Then, Rebecca and Jerry had a long argument, and afterwards Jerry said to Rebecca\n",
      "After Alice and Ella went to the desert, Ella gave a blackberry to Alice\n",
      "When Faye and Lorraine got a plum at the market, Lorraine decided to give it to Faye\n",
      "When Teresa and Anita got a orange at the cave, Anita decided to give the orange to Teresa\n",
      "While Kevin and Wilma were working at the park, Wilma gave a honeydew to Kevin\n",
      "While Marsha and Carmen were commuting to the cave, Carmen gave a pear to Marsha\n",
      "After the lunch, Bernadette and Rosemarie went to the forest. Rosemarie gave a peach to Bernadette\n",
      "Afterwards, Grace and Paula went to the park. Paula gave a mango to Grace\n",
      "Then, Natasha and Harriet had a long argument. Afterwards Harriet said to Natasha\n",
      "The home Kari and Marian went to had a blackberry. Marian gave it to Kari\n",
      "Friends Yvette and Yolanda found a pear at the bar. Yolanda gave it to Yvette\n"
     ]
    }
   ],
   "source": [
    "# ABBA pattern\n",
    "for template in abba_templates:\n",
    "    print(template.format(A=random.choice(person_b_names),\n",
    "                          B=random.choice(person_a_names),\n",
    "                          OBJECT=random.choice(OBJECTS),\n",
    "                          PLACE=random.choice(PLACES))\n",
    "         )"
   ]
  },
  {
   "cell_type": "code",
   "execution_count": 12,
   "id": "7a18a7ee-2917-4a43-845b-1f3b0fe8f2e1",
   "metadata": {},
   "outputs": [],
   "source": [
    "def generate_dataset():\n",
    "    As = gen_person_a()\n",
    "    random.shuffle(As)\n",
    "    Bs = gen_person_b(person_a_names)\n",
    "    random.shuffle(Bs)\n",
    "    random.shuffle(OBJECTS)\n",
    "    random.shuffle(PLACES)\n",
    "    sentences = []\n",
    "    for template in abba_templates:\n",
    "        sentences.append(template.format(A=random.choice(As),\n",
    "                                         B=random.choice(Bs),\n",
    "                                         OBJECT=random.choice(OBJECTS),\n",
    "                                         PLACE=random.choice(PLACES)))\n",
    "    return sentences"
   ]
  },
  {
   "cell_type": "code",
   "execution_count": 13,
   "id": "6de13453-a2be-4e15-a0fc-33e142ce9a0d",
   "metadata": {},
   "outputs": [
    {
     "data": {
      "text/plain": [
       "['Then, Diane and Brittany went to the zoo. Brittany gave a raspberry to Diane',\n",
       " 'Then, Peggy and Ellen had a lot of fun at the desert. Ellen gave a mango to Peggy',\n",
       " 'Then, Willie and Irene were working at the store. Irene decided to give a orange to Willie',\n",
       " 'Then, Ellen and Joy were thinking about going to the cave. Joy wanted to give a peach to Ellen',\n",
       " 'Then, Virginia and Barbara had a long argument, and afterwards Barbara said to Virginia',\n",
       " 'After Bonnie and Gloria went to the zoo, Gloria gave a orange to Bonnie',\n",
       " 'When Virginia and Karla got a pear at the river, Karla decided to give it to Virginia',\n",
       " 'When Natalie and Meredith got a honeydew at the forest, Meredith decided to give the honeydew to Natalie',\n",
       " 'While Vera and Constance were working at the museum, Constance gave a apple to Vera',\n",
       " 'While Claire and Joan were commuting to the desert, Joan gave a raspberry to Claire',\n",
       " 'After the lunch, Peggy and Debra went to the school. Debra gave a pear to Peggy',\n",
       " 'Afterwards, Cassandra and Gloria went to the school. Gloria gave a grape to Cassandra',\n",
       " 'Then, Melinda and Gertrude had a long argument. Afterwards Gertrude said to Melinda',\n",
       " 'The market Cindy and Marcella went to had a cantaloupe. Marcella gave it to Cindy',\n",
       " 'Friends Rachael and Esther found a blueberry at the bar. Esther gave it to Rachael']"
      ]
     },
     "execution_count": 13,
     "metadata": {},
     "output_type": "execute_result"
    }
   ],
   "source": [
    "generate_dataset()"
   ]
  },
  {
   "cell_type": "code",
   "execution_count": 20,
   "id": "9e30338a-d680-4645-aa2b-b40145625e4f",
   "metadata": {},
   "outputs": [],
   "source": [
    "data = []\n",
    "for template in abba_templates:\n",
    "    for a, b, o, p in [(a, b, o, p) \n",
    "                       for p in PLACES\n",
    "                       for o in OBJECTS\n",
    "                       for b in person_b_names\n",
    "                       for a in person_a_names]:\n",
    "        data.append(template.format(A=a, B=b, OBJECT=o, PLACE=p))"
   ]
  },
  {
   "cell_type": "code",
   "execution_count": 15,
   "id": "f8920343-2637-484e-9e43-65e8d78afd9e",
   "metadata": {},
   "outputs": [],
   "source": [
    "baba_data = []\n",
    "for template in baba_templates:\n",
    "    for a, b, o, p in [(a, b, o, p) \n",
    "                       for p in PLACES\n",
    "                       for o in OBJECTS\n",
    "                       for b in person_b_names\n",
    "                       for a in person_a_names]:\n",
    "        baba_data.append(template.format(A=a, B=b, OBJECT=o, PLACE=p))"
   ]
  },
  {
   "cell_type": "code",
   "execution_count": 21,
   "id": "32122f7d-5b83-4be5-811e-6a1fa86d18bf",
   "metadata": {},
   "outputs": [
    {
     "data": {
      "text/plain": [
       "15000000"
      ]
     },
     "execution_count": 21,
     "metadata": {},
     "output_type": "execute_result"
    }
   ],
   "source": [
    "len(data)"
   ]
  },
  {
   "cell_type": "code",
   "execution_count": 22,
   "id": "6f3e3e0f-f0d7-4faa-8f9d-c9e03479c7f1",
   "metadata": {},
   "outputs": [
    {
     "data": {
      "text/plain": [
       "13005000"
      ]
     },
     "execution_count": 22,
     "metadata": {},
     "output_type": "execute_result"
    }
   ],
   "source": [
    "len(set(data))"
   ]
  },
  {
   "cell_type": "code",
   "execution_count": 23,
   "id": "ba2eed7b-1a2c-45ff-bb15-05b32862a3b9",
   "metadata": {},
   "outputs": [],
   "source": [
    "dedup = list(set(data))"
   ]
  },
  {
   "cell_type": "code",
   "execution_count": 16,
   "id": "4112df9d-4dfe-42fd-a1ad-49a40ae821cf",
   "metadata": {},
   "outputs": [
    {
     "data": {
      "text/plain": [
       "15000000"
      ]
     },
     "execution_count": 16,
     "metadata": {},
     "output_type": "execute_result"
    }
   ],
   "source": [
    "len(baba_data)"
   ]
  },
  {
   "cell_type": "code",
   "execution_count": 26,
   "id": "2d9f520b-3a86-4f4e-a2cd-c717a0f79200",
   "metadata": {},
   "outputs": [
    {
     "data": {
      "text/plain": [
       "13005000"
      ]
     },
     "execution_count": 26,
     "metadata": {},
     "output_type": "execute_result"
    }
   ],
   "source": [
    "len(dedup)"
   ]
  },
  {
   "cell_type": "code",
   "execution_count": 18,
   "id": "3e291171-72a3-46d8-a3aa-cb24e112d693",
   "metadata": {},
   "outputs": [
    {
     "data": {
      "text/plain": [
       "13005000"
      ]
     },
     "execution_count": 18,
     "metadata": {},
     "output_type": "execute_result"
    }
   ],
   "source": [
    "len(set(baba_data))"
   ]
  },
  {
   "cell_type": "code",
   "execution_count": 24,
   "id": "451c7b56-13da-4422-a56c-e09408510b31",
   "metadata": {},
   "outputs": [],
   "source": [
    "dedup_baba = list(set(baba_data))"
   ]
  },
  {
   "cell_type": "code",
   "execution_count": 25,
   "id": "d40339b3-42b7-4396-80db-d95bbc0140af",
   "metadata": {},
   "outputs": [
    {
     "data": {
      "text/plain": [
       "13005000"
      ]
     },
     "execution_count": 25,
     "metadata": {},
     "output_type": "execute_result"
    }
   ],
   "source": [
    "len(dedup_baba)"
   ]
  },
  {
   "cell_type": "code",
   "execution_count": 27,
   "id": "c54812bd-fd18-4085-a385-d0b8b9313071",
   "metadata": {},
   "outputs": [],
   "source": [
    "ioi_data = []\n",
    "while len(ioi_data) < 100000:\n",
    "    ioi_data.append(random.choice(data))"
   ]
  },
  {
   "cell_type": "code",
   "execution_count": 28,
   "id": "1cf4faf0-1d8e-4767-9383-a820ef5ce918",
   "metadata": {},
   "outputs": [
    {
     "data": {
      "text/plain": [
       "100000"
      ]
     },
     "execution_count": 28,
     "metadata": {},
     "output_type": "execute_result"
    }
   ],
   "source": [
    "len(ioi_data)"
   ]
  },
  {
   "cell_type": "code",
   "execution_count": 29,
   "id": "04681d86-1058-4637-b359-47db7e356cfb",
   "metadata": {},
   "outputs": [],
   "source": [
    "# https://stackoverflow.com/questions/63467352/randomly-sampling-from-multiple-lists\n",
    "sample_n = 100000\n",
    "full_data = np.column_stack((dedup, dedup_baba))\n",
    "idx = np.random.randint(0, len(full_data), size = sample_n) \n",
    "# idx = np.reshape(idx, (sample_size, 1))\n",
    "#sample_data[idx,:]=data[idx,:]"
   ]
  },
  {
   "cell_type": "code",
   "execution_count": 33,
   "id": "1dfc4480-38a5-4776-8080-4d6630f32e9d",
   "metadata": {},
   "outputs": [],
   "source": [
    "sample_data = full_data[idx, :]"
   ]
  },
  {
   "cell_type": "code",
   "execution_count": 34,
   "id": "c6aba966-5829-4083-b2de-6e679c590008",
   "metadata": {},
   "outputs": [
    {
     "data": {
      "text/plain": [
       "array(['Friends Juana and Kristi found a mango at the bar. Kristi gave it to Juana',\n",
       "       'Then, Yvette and Angie were working at the mountain. Yvette decided to give a banana to Angie'],\n",
       "      dtype='<U127')"
      ]
     },
     "execution_count": 34,
     "metadata": {},
     "output_type": "execute_result"
    }
   ],
   "source": [
    "sample_data[0]"
   ]
  },
  {
   "cell_type": "code",
   "execution_count": 36,
   "id": "07c8e83e-3646-4ed1-80df-320667390aa5",
   "metadata": {},
   "outputs": [
    {
     "data": {
      "text/plain": [
       "200000"
      ]
     },
     "execution_count": 36,
     "metadata": {},
     "output_type": "execute_result"
    }
   ],
   "source": [
    "len(sample_data.flatten())"
   ]
  },
  {
   "cell_type": "code",
   "execution_count": 38,
   "id": "0f466d23-4305-4f3e-895b-7670d9d16bd0",
   "metadata": {},
   "outputs": [],
   "source": [
    "import pickle"
   ]
  },
  {
   "cell_type": "code",
   "execution_count": 39,
   "id": "38bfd16f-61d6-4b91-b282-d5ae550f40bd",
   "metadata": {},
   "outputs": [],
   "source": [
    "with open(\"ioi_200k_baba_abba.pkl\", \"wb\") as fobj:\n",
    "    pickle.dump(sample_data.flatten(), fobj)"
   ]
  },
  {
   "cell_type": "code",
   "execution_count": 40,
   "id": "acced638-984d-494e-b9cb-bb69f39e1939",
   "metadata": {},
   "outputs": [],
   "source": [
    "with open(\"ioi_26m_baba_abba.pkl\", \"wb\") as fobj:\n",
    "    pickle.dump(full_data.flatten(), fobj)"
   ]
  },
  {
   "cell_type": "code",
   "execution_count": 33,
   "id": "f08bb7df-1cff-41f7-b84d-8610671349a4",
   "metadata": {},
   "outputs": [],
   "source": [
    "with open(\"pkl_full_data.pkl\", \"wb\") as fobj:\n",
    "    pickle.dump(data, fobj)"
   ]
  },
  {
   "cell_type": "code",
   "execution_count": 31,
   "id": "4ebb0ffb-90c5-4add-8886-77784aa18f5a",
   "metadata": {},
   "outputs": [],
   "source": [
    "with open(\"pkl_ioi_data.pkl\", \"wb\") as fobj:\n",
    "    pickle.dump(ioi_data, fobj)"
   ]
  },
  {
   "cell_type": "code",
   "execution_count": 32,
   "id": "9b66e7a5-e640-4066-a622-c079031e27ed",
   "metadata": {},
   "outputs": [
    {
     "data": {
      "text/plain": [
       "['Then, Tracey and Jacqueline went to the home. Jacqueline gave a orange to Tracey',\n",
       " 'When Kristy and Jacqueline got a honeydew at the shop, Jacqueline decided to give it to Kristy',\n",
       " 'While Robyn and Katrina were working at the mountain, Katrina gave a apple to Robyn',\n",
       " 'Then, Karla and Dolores were working at the bar. Dolores decided to give a peach to Karla',\n",
       " 'The shop Tracey and Francis went to had a coconut. Francis gave it to Tracey',\n",
       " 'When Karla and Anna got a pineapple at the beach, Anna decided to give it to Karla',\n",
       " 'The desert Angelina and Dawn went to had a strawberry. Dawn gave it to Angelina',\n",
       " 'When Tracey and Harriet got a papaya at the forest, Harriet decided to give the papaya to Tracey',\n",
       " 'Then, Jessica and Eula were working at the museum. Eula decided to give a orange to Jessica',\n",
       " 'The forest Vivian and Mercedes went to had a apple. Mercedes gave it to Vivian',\n",
       " 'Then, Jill and Pamela had a lot of fun at the desert. Pamela gave a strawberry to Jill',\n",
       " 'Friends Gwendolyn and Marsha found a mango at the beach. Marsha gave it to Gwendolyn',\n",
       " 'While Lynne and Harriet were working at the lake, Harriet gave a pineapple to Lynne',\n",
       " 'Friends Viola and Betsy found a orange at the zoo. Betsy gave it to Viola',\n",
       " 'When Lucille and Sarah got a raspberry at the desert, Sarah decided to give the raspberry to Lucille',\n",
       " 'After Elena and Kari went to the desert, Kari gave a peach to Elena',\n",
       " 'While Jo and Vanessa were working at the cave, Vanessa gave a coconut to Jo',\n",
       " 'After Shirley and Sabrina went to the museum, Sabrina gave a pear to Shirley',\n",
       " 'Then, Anthony and Kerry were thinking about going to the mountain. Kerry wanted to give a banana to Anthony',\n",
       " 'Then, Erika and Allison were working at the desert. Allison decided to give a banana to Erika']"
      ]
     },
     "execution_count": 32,
     "metadata": {},
     "output_type": "execute_result"
    }
   ],
   "source": [
    "ioi_data[:20]"
   ]
  },
  {
   "cell_type": "code",
   "execution_count": null,
   "id": "16bb7ee6-0f9f-4e7d-a2e7-d0dab8e140b5",
   "metadata": {},
   "outputs": [],
   "source": []
  }
 ],
 "metadata": {
  "kernelspec": {
   "display_name": "Python 3 (ipykernel)",
   "language": "python",
   "name": "python3"
  },
  "language_info": {
   "codemirror_mode": {
    "name": "ipython",
    "version": 3
   },
   "file_extension": ".py",
   "mimetype": "text/x-python",
   "name": "python",
   "nbconvert_exporter": "python",
   "pygments_lexer": "ipython3",
   "version": "3.10.6"
  }
 },
 "nbformat": 4,
 "nbformat_minor": 5
}
